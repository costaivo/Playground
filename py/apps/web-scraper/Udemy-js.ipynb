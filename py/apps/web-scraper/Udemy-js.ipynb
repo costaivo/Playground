{
 "cells": [
  {
   "cell_type": "code",
   "execution_count": 19,
   "metadata": {},
   "outputs": [],
   "source": [
    "# Import required Packages\n",
    "\n",
    "from selenium import webdriver\n",
    "from selenium.webdriver.support.ui import WebDriverWait\n",
    "import time\n",
    "from bs4 import BeautifulSoup\n",
    "import pandas as pd"
   ]
  },
  {
   "cell_type": "code",
   "execution_count": 21,
   "metadata": {},
   "outputs": [],
   "source": [
    "#start_url = 'https://www.udemy.com/course/aws-certified-developer-associate-dva-c01/'\n",
    "start_url ='https://www.udemy.com/course/aws-certified-solutions-architect-associate-saa-c02/'\n",
    "#course_name ='aws-developer-associate'\n",
    "course_name ='aws-soultions-architect-associate' \n",
    "\n",
    "with webdriver.Firefox() as driver:\n",
    "    wait = WebDriverWait(driver, 10)\n",
    "    driver.get(start_url)\n",
    "\n",
    " \n",
    "\n",
    "    time.sleep(10)\n",
    "\n",
    " \n",
    "    driver.execute_script(\"window.scrollTo(0,document.body.scrollHeight)\")\n",
    "    time.sleep(3)\n",
    "    #button = driver.find_elements_by_xpath(\"//button[@data-purpose='show-more']\")\n",
    "    #print(button)\n",
    "    #button.click()\n",
    "    #time.sleep(5)\n",
    "\n",
    "    # And grab the page HTML source\n",
    "    html_page = driver.page_source\n",
    "    \n",
    "    # Save a local Copy\n",
    "    with open(course_name+'.html','w') as file:\n",
    "        file.write(html_page)\n",
    "          "
   ]
  },
  {
   "cell_type": "code",
   "execution_count": 22,
   "metadata": {},
   "outputs": [],
   "source": [
    "source_page =''   \n",
    "# Read the local saved copy\n",
    "with open(course_name+'.html','r') as file:\n",
    "    source_page = file.read()  \n"
   ]
  },
  {
   "cell_type": "code",
   "execution_count": 23,
   "metadata": {},
   "outputs": [
    {
     "name": "stdout",
     "output_type": "stream",
     "text": [
      "[['Introduction - AWS Certified Solutions Architect Associate', '8 lectures ', '15min'], ['Code & Slides Download', '1 lecture ', '1min'], ['AWS Fundamentals: IAM & EC2', '30 lectures ', '2hr 36min'], ['High Availability and Scalability: ELB & ASG', '13 lectures ', '1hr 30min'], ['EC2 Storage - EBS & EFS', '12 lectures ', '58min'], ['AWS Fundamentals: RDS + Aurora + ElastiCache', '10 lectures ', '1hr'], ['Route 53', '14 lectures ', '1hr 3min'], ['Classic Solutions Architecture Discussions', '7 lectures ', '41min'], ['Amazon S3 Introduction', '10 lectures ', '1hr 4min'], ['AWS CLI, SDK, IAM Roles & Policies', '11 lectures ', '44min'], ['Advanced Amazon S3 & Athena', '14 lectures ', '1hr 14min'], ['CloudFront & AWS Global Accelerator', '5 lectures ', '39min'], ['AWS Storage Extras', '7 lectures ', '27min'], ['Decoupling applications: SQS, SNS, Kinesis, Active MQ', '13 lectures ', '1hr 25min'], ['Serverless Overviews from a Solution Architect Perspective', '14 lectures ', '1hr 5min'], ['Serverless Solution Architecture Discussions', '6 lectures ', '26min'], ['Databases in AWS', '10 lectures ', '38min'], ['AWS Monitoring & Audit: CloudWatch, CloudTrail & Config', '10 lectures ', '48min'], ['Identity and Access Management (IAM) - Advanced', '10 lectures ', '1hr 3min'], ['AWS Security & Encryption: KMS, SSM Parameter Store, CloudHSM, Shield, WAF', '14 lectures ', '1hr 8min'], ['Networking - VPC', '24 lectures ', '2hr 20min'], ['Disaster Recovery & Migrations', '6 lectures ', '26min'], ['More Solution Architectures', '6 lectures ', '33min'], ['Other Services', '16 lectures ', '52min'], ['WhitePapers and Architectures - AWS Certified Solutions Architect Associate', '9 lectures ', '35min'], ['Preparing for the Exam + Practice Exam - AWS Certified Solutions Architect Assoc', '6 lectures ', '18min'], ['Congratulations - AWS Certified Solutions Architect Associate', '3 lectures ', '3min']]\n"
     ]
    }
   ],
   "source": [
    "# Start Processing the file\n",
    "# Parse the HTML with BeautifulSoup and create a soup object\n",
    "soup = BeautifulSoup(source_page)\n",
    "\n",
    "table_columns = []\n",
    "table_columns.append('title')\n",
    "table_columns.append('lectures')\n",
    "table_columns.append('duration')\n",
    "\n",
    "table_data = []\n",
    "# Select course list\n",
    "course_content = soup.select('div[class*=\"section--section--\"]')  \n",
    "for EachPart in course_content:\n",
    "    row_data = []\n",
    "    section_title = EachPart.select('div[class*=\"section--section-title--\"]')[0]\n",
    "    section_content = EachPart.select('div[class*=\"udlite-text-sm section--section-content--\"]')[0]\n",
    "    section_content = section_content.get_text(separator=\" \", strip=True).split('•',1)[0]\n",
    "    section_duration = EachPart.select('span')[0]\n",
    "    row_data.append(section_title.text)\n",
    "    row_data.append(section_content)\n",
    "    row_data.append(section_duration.text)\n",
    "    table_data.append(row_data)\n",
    "print(table_data)"
   ]
  },
  {
   "cell_type": "code",
   "execution_count": null,
   "metadata": {},
   "outputs": [],
   "source": []
  },
  {
   "cell_type": "code",
   "execution_count": 24,
   "metadata": {},
   "outputs": [],
   "source": [
    "# Create a Pandas DataFrame\n",
    "df = pd.DataFrame(table_data, columns=table_columns)\n",
    "df.to_excel(course_name+\".xlsx\") "
   ]
  },
  {
   "cell_type": "code",
   "execution_count": null,
   "metadata": {},
   "outputs": [],
   "source": []
  }
 ],
 "metadata": {
  "kernelspec": {
   "display_name": "Python 3",
   "language": "python",
   "name": "python3"
  },
  "language_info": {
   "codemirror_mode": {
    "name": "ipython",
    "version": 3
   },
   "file_extension": ".py",
   "mimetype": "text/x-python",
   "name": "python",
   "nbconvert_exporter": "python",
   "pygments_lexer": "ipython3",
   "version": "3.7.4"
  }
 },
 "nbformat": 4,
 "nbformat_minor": 4
}
