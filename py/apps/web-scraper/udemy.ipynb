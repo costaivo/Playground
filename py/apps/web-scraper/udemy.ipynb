{
 "cells": [
  {
   "cell_type": "code",
   "execution_count": 1,
   "metadata": {},
   "outputs": [],
   "source": [
    "# Import Pacakages\n",
    "import requests\n",
    "import requests\n",
    "from bs4 import BeautifulSoup\n",
    "import pandas as pd "
   ]
  },
  {
   "cell_type": "code",
   "execution_count": 2,
   "metadata": {},
   "outputs": [],
   "source": [
    "# Download and parse the HTML\n",
    "start_url = 'https://www.udemy.com/course/nestjs-zero-to-hero/'\n",
    "\n",
    "# Download the HTML from start_url\n",
    "downloaded_html = requests.get(start_url)\n",
    "\n",
    "# Parse the HTML with BeautifulSoup and create a soup object\n",
    "soup = BeautifulSoup(downloaded_html.text)\n",
    "\n",
    "# Save a local Copy\n",
    "with open('udemy-course-list.html','w') as file:\n",
    "    file.write(soup.prettify())"
   ]
  },
  {
   "cell_type": "code",
   "execution_count": 8,
   "metadata": {},
   "outputs": [
    {
     "name": "stdout",
     "output_type": "stream",
     "text": [
      "Introduction to NestJS & Pre-requisites\n",
      "REST API - Task Management Application (CRUD)\n",
      "Validation and Error Handling\n",
      "Data Persistence - PostgreSQL & TypeORM\n",
      "(Part 1) Authentication - Setting up JWT/Passport.js\n",
      "(Part 2) Authorization - Task Ownership\n",
      "(Bonus) Logging\n",
      "(Bonus) Pro-Production: Configuration\n",
      "(Bonus) Front-end Application\n",
      "(Bonus) Deployment - Amazon Web Services (AWS)\n"
     ]
    }
   ],
   "source": [
    "# Select course list\n",
    "full_table = soup.select('.section-title-text')\n",
    "for element in full_table:\n",
    "    print(element.text)"
   ]
  },
  {
   "cell_type": "code",
   "execution_count": null,
   "metadata": {},
   "outputs": [],
   "source": []
  }
 ],
 "metadata": {
  "kernelspec": {
   "display_name": "Python 3",
   "language": "python",
   "name": "python3"
  },
  "language_info": {
   "codemirror_mode": {
    "name": "ipython",
    "version": 3
   },
   "file_extension": ".py",
   "mimetype": "text/x-python",
   "name": "python",
   "nbconvert_exporter": "python",
   "pygments_lexer": "ipython3",
   "version": "3.7.4"
  }
 },
 "nbformat": 4,
 "nbformat_minor": 4
}
