{
 "cells": [
  {
   "cell_type": "code",
   "execution_count": 1,
   "metadata": {},
   "outputs": [],
   "source": [
    "import time\n",
    "from bs4 import BeautifulSoup\n",
    "import pandas as pd"
   ]
  },
  {
   "cell_type": "code",
   "execution_count": 13,
   "metadata": {},
   "outputs": [],
   "source": [
    "course_name='acloud-aws-developer-associate'\n",
    "source_page =''   \n",
    "# Read the local saved copy\n",
    "with open(course_name+'.html','r') as file:\n",
    "    source_page = file.read()  "
   ]
  },
  {
   "cell_type": "code",
   "execution_count": 18,
   "metadata": {},
   "outputs": [
    {
     "name": "stdout",
     "output_type": "stream",
     "text": [
      "Introduction  : 19:49\n",
      "AWS - 10,000-Foot Overview  : 40:17\n",
      "Identity and Access Management & S3  : 3:37:59\n",
      "EC2  : 3:39:16\n",
      "Databases on AWS  : 1:52:16\n",
      "Advanced IAM  : 36:14\n",
      "Route 53  : 1:13:59\n",
      "VPCs  : 2:30:04\n",
      "HA Architecture  : 2:28:34\n",
      "Applications  : 2:06:22\n",
      "Security  : 46:03\n",
      "Serverless  : 1:30:57\n",
      "Good Luck!  : 2:49:55\n"
     ]
    }
   ],
   "source": [
    "# Start Processing the file\n",
    "# Parse the HTML with BeautifulSoup and create a soup object\n",
    "soup = BeautifulSoup(source_page)\n",
    "\n",
    "# Select course list\n",
    "course_content = soup.select('div[class*=\"CourseSection__TitleRow\"]') \n",
    "\n",
    "for ele in course_content:\n",
    "    title = ele.select('h3')[0].text\n",
    "    duration = ele.select('span')[0].text\n",
    "    print(title ,' :' ,duration)"
   ]
  },
  {
   "cell_type": "code",
   "execution_count": null,
   "metadata": {},
   "outputs": [],
   "source": [
    "#https://acloud.guru/learn/aws-certified-solutions-architect-associate"
   ]
  },
  {
   "cell_type": "code",
   "execution_count": null,
   "metadata": {},
   "outputs": [],
   "source": []
  }
 ],
 "metadata": {
  "kernelspec": {
   "display_name": "Python 3",
   "language": "python",
   "name": "python3"
  },
  "language_info": {
   "codemirror_mode": {
    "name": "ipython",
    "version": 3
   },
   "file_extension": ".py",
   "mimetype": "text/x-python",
   "name": "python",
   "nbconvert_exporter": "python",
   "pygments_lexer": "ipython3",
   "version": "3.7.4"
  }
 },
 "nbformat": 4,
 "nbformat_minor": 4
}
